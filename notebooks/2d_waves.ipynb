{
 "cells": [
  {
   "cell_type": "code",
   "execution_count": 1,
   "metadata": {
    "collapsed": true,
    "pycharm": {
     "name": "#%%\n"
    }
   },
   "outputs": [],
   "source": [
    "# %matplotlib notebook\n",
    "# %matplotlib widget\n",
    "%matplotlib inline\n",
    "import numpy as np\n",
    "import matplotlib.pyplot as plt\n",
    "from matplotlib.widgets import Slider"
   ]
  },
  {
   "cell_type": "code",
   "execution_count": 2,
   "outputs": [],
   "source": [
    "class Wave:\n",
    "    frequency = [50, 70, 390, 456]  # Hz\n",
    "    wave_number = [40, 80, 300, 312]  # 1/m\n",
    "\n",
    "    def __init__(self, x, t):\n",
    "        self.x = x\n",
    "        self.t = t\n",
    "\n",
    "    def __call__(self, *args, **kwargs):\n",
    "        w = np.sin(2 * np.pi * self.wave_number[0] * self.x - 2 * np.pi * self.frequency[0] * self.t)\n",
    "        w += np.cos(2 * np.pi * self.wave_number[1] * self.x - 2 * np.pi * self.frequency[1] * self.t)\n",
    "        w += np.sin(2 * np.pi * self.wave_number[2] * self.x - 2 * np.pi * self.frequency[2] * self.t)\n",
    "        w += np.cos(2 * np.pi * self.wave_number[3] * self.x - 2 * np.pi * self.frequency[3] * self.t)\n",
    "        return w\n",
    "\n",
    "\n",
    "class Pulse:\n",
    "    frequency = [1, 10, 15, 20]\n",
    "    wave_number = [1, 15, 20, 25]\n",
    "    t_0 = 0\n",
    "    x_0 = 0\n",
    "\n",
    "    def __init__(self, x, t):\n",
    "        self.x = x\n",
    "        self.t = t\n",
    "\n",
    "    def __call__(self, *args, **kwargs):\n",
    "        p = np.exp(-(2 * np.pi * self.wave_number[0] * (self.x - self.x_0) - 2 * np.pi * self.frequency[0] * (\n",
    "                    self.t - self.t_0)) ** 2)\n",
    "        w = np.sin(2 * np.pi * self.wave_number[0] * self.x - 2 * np.pi * self.frequency[0] * self.t)\n",
    "        w += np.cos(2 * np.pi * self.wave_number[1] * self.x - 2 * np.pi * self.frequency[1] * self.t)\n",
    "        w += np.sin(2 * np.pi * self.wave_number[2] * self.x - 2 * np.pi * self.frequency[2] * self.t)\n",
    "        w += np.cos(2 * np.pi * self.wave_number[3] * self.x - 2 * np.pi * self.frequency[3] * self.t)\n",
    "        return p * w"
   ],
   "metadata": {
    "collapsed": false,
    "pycharm": {
     "name": "#%%\n"
    }
   }
  },
  {
   "cell_type": "code",
   "execution_count": 3,
   "outputs": [
    {
     "name": "stdout",
     "output_type": "stream",
     "text": [
      "sampling temporal frequency (sampling points in 1s) 4096.0 Hz\n",
      "sampling spatial frequency (sampling points in 1m) 4096.0 1/m\n",
      "y.shape (4096, 4096)\n"
     ]
    }
   ],
   "source": [
    "sp = 2 ** 12  # sampling size\n",
    "t_max = 1  # s\n",
    "x_max = 1  # m\n",
    "dt = t_max / sp  # sampling interval (s)\n",
    "dx = x_max / sp  #sampling interval (m)\n",
    "sft = sp / t_max  # sampling frequency (sampling points in 1s) t\n",
    "sfx = sp / x_max  # sampling spatial frequency (sampling points in 1m) x\n",
    "print('sampling temporal frequency (sampling points in 1s)', sft, 'Hz')\n",
    "print('sampling spatial frequency (sampling points in 1m)', sfx, '1/m')\n",
    "x = np.arange(0, x_max, dx)\n",
    "T = np.arange(0, t_max, dt)\n",
    "y = np.zeros((len(x), len(T)))\n",
    "Signal = Pulse\n",
    "assert sft > 2 * max(Signal.frequency), 'Nyquist: Make sure sampling frequency > 2 * highest frequency of the signal'\n",
    "assert sfx > 2 * max(Signal.wave_number), 'Nyquist: Make sure sampling frequency > 2 * highest frequency of the signal'\n",
    "for i, t in enumerate(T):\n",
    "    y[:, i] = Signal(x, t)()\n",
    "print('y.shape', y.shape)"
   ],
   "metadata": {
    "collapsed": false,
    "pycharm": {
     "name": "#%%\n"
    }
   }
  },
  {
   "cell_type": "code",
   "execution_count": 4,
   "outputs": [
    {
     "data": {
      "text/plain": "<Figure size 432x288 with 2 Axes>",
      "image/png": "[encoded data removed]"
     },
     "metadata": {
      "needs_background": "light"
     },
     "output_type": "display_data"
    }
   ],
   "source": [
    "fig = plt.figure()\n",
    "ax = fig.add_subplot()\n",
    "ax.set_xlabel('x')\n",
    "ax.set_ylabel('y')\n",
    "l, = ax.plot(x, y[:, 0])\n",
    "fig.subplots_adjust(bottom=0.25)\n",
    "ax_t = plt.axes([0.20, 0.05, 0.65, 0.06])\n",
    "t_slider = Slider(\n",
    "    ax=ax_t,\n",
    "    label='t',\n",
    "    valmin=0,\n",
    "    valmax=t_max,\n",
    "    valinit=0,\n",
    "    valstep=dt,\n",
    ")\n",
    "\n",
    "\n",
    "def val_to_idx(v):\n",
    "    \"\"\"\n",
    "    slide value to ndarray index\n",
    "    :param v: slide value\n",
    "    :rtype: int\n",
    "    \"\"\"\n",
    "    return int(v * sp / t_max) - 1\n",
    "\n",
    "\n",
    "def update_t(val):\n",
    "    l.set_ydata(y[:, val_to_idx(val)])\n",
    "    fig.canvas.draw_idle()\n",
    "\n",
    "\n",
    "t_slider.on_changed(update_t)\n",
    "plt.show()"
   ],
   "metadata": {
    "collapsed": false,
    "pycharm": {
     "name": "#%%\n"
    }
   }
  },
  {
   "cell_type": "code",
   "execution_count": 5,
   "outputs": [],
   "source": [
    "fft_result = np.fft.fft2(y)\n",
    "abs_fft = np.abs(fft_result)"
   ],
   "metadata": {
    "collapsed": false,
    "pycharm": {
     "name": "#%%\n"
    }
   }
  },
  {
   "cell_type": "code",
   "execution_count": 6,
   "outputs": [
    {
     "data": {
      "text/plain": "<Figure size 432x288 with 1 Axes>",
      "image/png": "[encoded data removed]"
     },
     "metadata": {
      "needs_background": "light"
     },
     "output_type": "display_data"
    }
   ],
   "source": [
    "wave_number = np.arange(0, sfx, sfx / sp)\n",
    "freq = np.arange(0, sft, sft / sp)\n",
    "# T = sp / sf\n",
    "# FREQ = n / T\n",
    "plt.close()\n",
    "fig = plt.figure()\n",
    "ax = fig.add_subplot()\n",
    "ax.set_xlabel('wave number')\n",
    "ax.set_ylabel('frequency')\n",
    "ax.pcolormesh(wave_number, freq, abs_fft, cmap=\"viridis\")\n",
    "plt.xlim(0, sfx / 2)\n",
    "plt.ylim(0, sft / 2)\n",
    "plt.xlim(0, max(Signal.wave_number) * 2)\n",
    "plt.ylim(0, max(Signal.frequency) * 2)\n",
    "plt.show()"
   ],
   "metadata": {
    "collapsed": false,
    "pycharm": {
     "name": "#%%\n"
    }
   }
  },
  {
   "cell_type": "code",
   "execution_count": 7,
   "outputs": [],
   "source": [
    "ifft_result = np.fft.ifft2(fft_result).real"
   ],
   "metadata": {
    "collapsed": false,
    "pycharm": {
     "name": "#%%\n"
    }
   }
  },
  {
   "cell_type": "code",
   "execution_count": 8,
   "outputs": [
    {
     "data": {
      "text/plain": "<Figure size 432x288 with 2 Axes>",
      "image/png": "[encoded data removed]"
     },
     "metadata": {
      "needs_background": "light"
     },
     "output_type": "display_data"
    }
   ],
   "source": [
    "fig = plt.figure()\n",
    "ax = fig.add_subplot()\n",
    "ax.set_xlabel('x')\n",
    "ax.set_ylabel('y')\n",
    "line, = ax.plot(x, ifft_result[:, 0])\n",
    "fig.subplots_adjust(bottom=0.25)\n",
    "ax_t = plt.axes([0.20, 0.05, 0.65, 0.06])\n",
    "t_slider = Slider(\n",
    "    ax=ax_t,\n",
    "    label='t',\n",
    "    valmin=0,\n",
    "    valmax=t_max,\n",
    "    valinit=0,\n",
    "    valstep=dt,\n",
    ")\n",
    "\n",
    "\n",
    "def val_to_idx(v):\n",
    "    \"\"\"\n",
    "    slide value to ndarray index\n",
    "    :param v: slide value\n",
    "    :rtype: int\n",
    "    \"\"\"\n",
    "    return int(v * sp / t_max)\n",
    "\n",
    "\n",
    "def update_t(val):\n",
    "    line.set_ydata(y[:, val_to_idx(val)])\n",
    "    fig.canvas.draw_idle()\n",
    "\n",
    "\n",
    "t_slider.on_changed(update_t)\n",
    "plt.show()"
   ],
   "metadata": {
    "collapsed": false,
    "pycharm": {
     "name": "#%%\n"
    }
   }
  }
 ],
 "metadata": {
  "kernelspec": {
   "display_name": "Python 3",
   "language": "python",
   "name": "python3"
  },
  "language_info": {
   "codemirror_mode": {
    "name": "ipython",
    "version": 2
   },
   "file_extension": ".py",
   "mimetype": "text/x-python",
   "name": "python",
   "nbconvert_exporter": "python",
   "pygments_lexer": "ipython2",
   "version": "2.7.6"
  }
 },
 "nbformat": 4,
 "nbformat_minor": 0
}