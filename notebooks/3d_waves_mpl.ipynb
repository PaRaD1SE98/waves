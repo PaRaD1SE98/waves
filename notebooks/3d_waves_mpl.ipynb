{
 "cells": [
  {
   "cell_type": "code",
   "execution_count": 19,
   "outputs": [
    {
     "name": "stderr",
     "output_type": "stream",
     "text": [
      "UsageError: Line magic function `%` not found.\n"
     ]
    }
   ],
   "source": [
    "# %matplotlib notebook\n",
    "# %matplotlib widget\n",
    "% matplotlib inline\n",
    "import numpy as np\n",
    "import matplotlib.pyplot as plt\n",
    "from matplotlib.widgets import Slider\n",
    "from matplotlib import animation"
   ],
   "metadata": {
    "collapsed": false,
    "pycharm": {
     "name": "#%%\n"
    }
   }
  },
  {
   "cell_type": "code",
   "execution_count": null,
   "outputs": [],
   "source": [
    "class Wave:\n",
    "    center = [.5, .5]  # x, y\n",
    "    frequency = [50, 70, 55, 100]  # Hz\n",
    "    wave_number_x = [40, 80, 90, 100]  # 1/m\n",
    "    wave_number_y = [40, 80, 70, 79]  # 1/m\n",
    "\n",
    "    def __init__(self, x, y, t):\n",
    "        self.x = x\n",
    "        self.y = y\n",
    "        self.t = t\n",
    "\n",
    "    def __call__(self, *args, **kwargs):\n",
    "        w = np.sin(\n",
    "            np.sqrt((2 * np.pi * self.wave_number_x[0] * (self.x - self.center[0])) ** 2 + (\n",
    "                    2 * np.pi * self.wave_number_y[0] * (self.y - self.center[1])) ** 2) + 2 * np.pi *\n",
    "            self.frequency[0] * self.t)\n",
    "        w += np.sin(\n",
    "            np.sqrt((2 * np.pi * self.wave_number_x[1] * (self.x - self.center[0])) ** 2 + (\n",
    "                    2 * np.pi * self.wave_number_y[1] * (self.y - self.center[1])) ** 2) + 2 * np.pi *\n",
    "            self.frequency[1] * self.t)\n",
    "        w += np.sin(\n",
    "            np.sqrt((2 * np.pi * self.wave_number_x[2] * (self.x - self.center[0])) ** 2 + (\n",
    "                    2 * np.pi * self.wave_number_y[2] * (self.y - self.center[1])) ** 2) + 2 * np.pi *\n",
    "            self.frequency[2] * self.t)\n",
    "        w += np.sin(\n",
    "            np.sqrt((2 * np.pi * self.wave_number_x[3] * (self.x - self.center[0])) ** 2 + (\n",
    "                    2 * np.pi * self.wave_number_y[3] * (self.y - self.center[1])) ** 2) + 2 * np.pi *\n",
    "            self.frequency[3] * self.t)\n",
    "        return w / 4\n",
    "\n",
    "\n",
    "class Pulse:\n",
    "    \"\"\"\n",
    "    y=exp(-(sqrt(x^2+y^2)-t)^2) * (sin(sqrt(x^2+y^2)-t)+cos(sqrt(x^2+y^2)-t))\n",
    "    \"\"\"\n",
    "    center = [0, .5]  # x, y\n",
    "    frequency = [30, 50, 80]  # Hz\n",
    "    wave_number_x = [20, 40, 60]  # 1/m\n",
    "    wave_number_y = [20, 40, 60]  # 1/m\n",
    "\n",
    "    def __init__(self, x, y, t):\n",
    "        self.x = x\n",
    "        self.y = y\n",
    "        self.t = t\n",
    "\n",
    "    def __call__(self, *args, **kwargs):\n",
    "        p = np.exp(\n",
    "            - (np.sqrt(\n",
    "                (2 * np.pi * self.wave_number_x[0] * (self.x - self.center[0])) ** 2 +\n",
    "                (2 * np.pi * self.wave_number_y[0] * (self.y - self.center[1])) ** 2\n",
    "            ) - 2 * np.pi * self.frequency[0] * self.t) ** 2\n",
    "        )\n",
    "        p *= np.sin(\n",
    "            np.sqrt(\n",
    "                (2 * np.pi * self.wave_number_x[1] * (self.x - self.center[0])) ** 2 +\n",
    "                (2 * np.pi * self.wave_number_y[1] * (self.y - self.center[1])) ** 2\n",
    "            ) - 2 * np.pi * self.frequency[1] * self.t\n",
    "        ) + np.cos(\n",
    "            np.sqrt(\n",
    "                (2 * np.pi * self.wave_number_x[2] * (self.x - self.center[0])) ** 2 +\n",
    "                (2 * np.pi * self.wave_number_y[2] * (self.y - self.center[1])) ** 2\n",
    "            ) - 2 * np.pi * self.frequency[2] * self.t\n",
    "        )\n",
    "        return p / 2"
   ],
   "metadata": {
    "collapsed": false,
    "pycharm": {
     "name": "#%%\n"
    }
   }
  },
  {
   "cell_type": "code",
   "execution_count": 20,
   "outputs": [
    {
     "name": "stdout",
     "output_type": "stream",
     "text": [
      "sampling temporal frequency (sampling points in 1s) t 257.0 Hz\n",
      "sampling spatial frequency (sampling points in 1m) x 257.0 1/m\n",
      "sampling spatial frequency (sampling points in 1m) y 257.0 1/m\n",
      "z.shape (257, 257, 257)\n"
     ]
    }
   ],
   "source": [
    "sp = 257  # sampling points in 1d\n",
    "t_max = 1  #s\n",
    "x_max = 1  #m\n",
    "y_max = 1  #m\n",
    "dt = t_max / sp  # sampling interval (s)\n",
    "dx = x_max / sp  # sampling interval (m)\n",
    "dy = y_max / sp  # sampling interval (m)\n",
    "sft = sp / t_max  # sampling temporal frequency (sampling points in 1s) t\n",
    "sfx = sp / x_max  # sampling spatial frequency (sampling points in 1m) x\n",
    "sfy = sp / y_max  # sampling spatial frequency (sampling points in 1m) y\n",
    "\n",
    "print('sampling temporal frequency (sampling points in 1s) t', sft, 'Hz')\n",
    "print('sampling spatial frequency (sampling points in 1m) x', sfx, '1/m')\n",
    "print('sampling spatial frequency (sampling points in 1m) y', sfy, '1/m')\n",
    "\n",
    "T = np.arange(0, t_max, dt)\n",
    "X = np.arange(0, x_max, dx)\n",
    "Y = np.arange(0, y_max, dy)\n",
    "x, y = np.meshgrid(X, Y, indexing='ij')\n",
    "z = np.zeros((len(X), len(Y), len(T)))\n",
    "\n",
    "Signal = Pulse  # choose the signal to be analyzed\n",
    "assert sft > 2 * max(\n",
    "    Signal.frequency), f'Nyquist: Make sure sampling frequency(current:{sft}) > 2 * highest frequency of the signal(current:{2 * max(Signal.frequency)})'\n",
    "assert sfx > 2 * max(\n",
    "    Signal.wave_number_x), f'Nyquist: Make sure sampling frequency(current:{sfx}) > 2 * highest frequency of the signal(current:{2 * max(Signal.frequency)})'\n",
    "assert sfy > 2 * max(\n",
    "    Signal.wave_number_y), f'Nyquist: Make sure sampling frequency(current:{sfy}) > 2 * highest frequency of the signal(current:{2 * max(Signal.frequency)})'\n",
    "\n",
    "for i, t in enumerate(T):\n",
    "    z[:, :, i] = Signal(x, y, t)()\n",
    "\n",
    "print('z.shape', z.shape)"
   ],
   "metadata": {
    "collapsed": false,
    "pycharm": {
     "name": "#%%\n"
    }
   }
  },
  {
   "cell_type": "code",
   "execution_count": 21,
   "outputs": [
    {
     "name": "stdout",
     "output_type": "stream",
     "text": [
      "fps 257.0\n"
     ]
    }
   ],
   "source": [
    "fps = sft\n",
    "# fps = 10\n",
    "print('fps', fps)"
   ],
   "metadata": {
    "collapsed": false,
    "pycharm": {
     "name": "#%%\n"
    }
   }
  },
  {
   "cell_type": "code",
   "execution_count": 22,
   "outputs": [
    {
     "name": "stderr",
     "output_type": "stream",
     "text": [
      "C:\\Users\\parad1se\\anaconda3\\envs\\waves\\lib\\site-packages\\matplotlib\\animation.py:889: UserWarning: Animation was deleted without rendering anything. This is most likely not intended. To prevent deletion, assign the Animation to a variable, e.g. `anim`, that exists until you have outputted the Animation using `plt.show()` or `anim.save()`.\n",
      "  warnings.warn(\n"
     ]
    },
    {
     "data": {
      "text/plain": "<Figure size 432x288 with 1 Axes>",
      "image/png": "[encoded data removed]"
     },
     "metadata": {
      "needs_background": "light"
     },
     "output_type": "display_data"
    }
   ],
   "source": [
    "def change_plot(frame_number, z_array, plot):\n",
    "    plot[0].remove()\n",
    "    plot[0] = ax.plot_surface(x, y, z_array[:, :, frame_number], cmap=\"viridis\")\n",
    "\n",
    "\n",
    "fig = plt.figure()\n",
    "ax = fig.add_subplot(projection='3d')\n",
    "ax.set_xlabel('x')\n",
    "ax.set_ylabel('y')\n",
    "ax.set_zlabel('z')\n",
    "surface = [ax.plot_surface(x, y, z[:, :, 128], color='0.75', rstride=1, cstride=1)]\n",
    "ax.set_zlim(-1, 1)\n",
    "ani = animation.FuncAnimation(fig, change_plot, len(T), fargs=(z, surface), interval=1000 / fps)\n",
    "plt.show()"
   ],
   "metadata": {
    "collapsed": false,
    "pycharm": {
     "name": "#%%\n"
    }
   }
  },
  {
   "cell_type": "code",
   "execution_count": null,
   "outputs": [],
   "source": [
    "# from IPython.core.display import HTML\n",
    "#\n",
    "# HTML(ani.to_jshtml())"
   ],
   "metadata": {
    "collapsed": false,
    "pycharm": {
     "name": "#%%\n"
    }
   }
  },
  {
   "cell_type": "code",
   "execution_count": 23,
   "outputs": [
    {
     "data": {
      "text/plain": "<Figure size 432x288 with 2 Axes>",
      "image/png": "[encoded data removed]"
     },
     "metadata": {
      "needs_background": "light"
     },
     "output_type": "display_data"
    }
   ],
   "source": [
    "plt.close()\n",
    "\n",
    "\n",
    "def change_plot_img(frame_number, z_array, plot):\n",
    "    plot[0].remove()\n",
    "    plot[0] = ax2.pcolormesh(x, y, z_array[:, :, frame_number], cmap='viridis')\n",
    "\n",
    "\n",
    "fig2 = plt.figure()\n",
    "ax2 = fig2.add_subplot()\n",
    "ax2.set_xlabel('x')\n",
    "ax2.set_ylabel('y')\n",
    "image = [ax2.pcolormesh(x, y, z[:, :, 128], cmap='viridis')]\n",
    "ax2.set_aspect(x_max / y_max)\n",
    "plt.colorbar(image[0], label='Amplitude')\n",
    "ani2 = animation.FuncAnimation(fig2, change_plot_img, len(T), fargs=(z, image), interval=1000 / fps)\n",
    "plt.show()"
   ],
   "metadata": {
    "collapsed": false,
    "pycharm": {
     "name": "#%%\n"
    }
   }
  },
  {
   "cell_type": "code",
   "execution_count": 24,
   "outputs": [],
   "source": [
    "# HTML(ani2.to_jshtml())"
   ],
   "metadata": {
    "collapsed": false,
    "pycharm": {
     "name": "#%%\n"
    }
   }
  },
  {
   "cell_type": "code",
   "execution_count": 25,
   "outputs": [],
   "source": [
    "KX = np.arange(-sfx / 2, sfx / 2, sfx / sp)\n",
    "KY = np.arange(-sfy / 2, sfy / 2, sfy / sp)\n",
    "FREQ = np.arange(0, sft, sft / sp)"
   ],
   "metadata": {
    "collapsed": false,
    "pycharm": {
     "name": "#%%\n"
    }
   }
  },
  {
   "cell_type": "code",
   "execution_count": null,
   "outputs": [],
   "source": [
    "fft_result = np.fft.fftn(z)"
   ],
   "metadata": {
    "collapsed": false,
    "pycharm": {
     "name": "#%%\n"
    }
   }
  },
  {
   "cell_type": "code",
   "execution_count": null,
   "outputs": [],
   "source": [
    "real_fft = fft_result.real\n",
    "imag_fft = fft_result.imag"
   ],
   "metadata": {
    "collapsed": false,
    "pycharm": {
     "name": "#%%\n"
    }
   }
  },
  {
   "cell_type": "code",
   "execution_count": null,
   "outputs": [],
   "source": [
    "abs_real_fft = np.abs(real_fft)\n",
    "abs_imag_fft = np.abs(imag_fft)\n",
    "abs_fft = np.abs(fft_result)"
   ],
   "metadata": {
    "collapsed": false,
    "pycharm": {
     "name": "#%%\n"
    }
   }
  },
  {
   "cell_type": "code",
   "execution_count": null,
   "outputs": [],
   "source": [
    "# Shift the zero-frequency component to the center of the spectrum.\n",
    "# Only shift kx and ky\n",
    "shifted_fft = np.fft.fftshift(abs_fft, axes=(0, 1))"
   ],
   "metadata": {
    "collapsed": false,
    "pycharm": {
     "name": "#%%\n"
    }
   }
  },
  {
   "cell_type": "code",
   "execution_count": null,
   "outputs": [],
   "source": [
    "plt.close()\n",
    "fig3 = plt.figure()\n",
    "ax3 = fig3.add_subplot()\n",
    "ax3.set_xlabel('Kx')\n",
    "ax3.set_ylabel('Ky')\n",
    "Kx, Ky = np.meshgrid(KX, KY, indexing='ij')\n",
    "image_fft = ax3.pcolormesh(Kx, Ky, shifted_fft[:, :, 0], cmap='viridis')\n",
    "# no need to limit valid range because done by shifting the result\n",
    "# plt.xlim(-sfx / 2, sfx / 2)\n",
    "# plt.ylim(-sfy / 2, sfy / 2)\n",
    "# ax3.set_aspect(x / y)\n",
    "fig3.colorbar(image_fft, label='Amplitude')\n",
    "fig3.subplots_adjust(bottom=0.25)\n",
    "ax_freq = plt.axes([0.20, 0.05, 0.65, 0.06])\n",
    "freq_slider = Slider(\n",
    "    ax=ax_freq,\n",
    "    label='Freq',\n",
    "    valmin=0,\n",
    "    valmax=sft / 2,\n",
    "    valinit=0,\n",
    "    valstep=sft / sp,\n",
    ")\n",
    "\n",
    "\n",
    "def f_val_to_idx(v):\n",
    "    \"\"\"\n",
    "    slide value to ndarray index\n",
    "    :param v: slide value\n",
    "    :rtype: int\n",
    "    \"\"\"\n",
    "    return int((v) * t_max)\n",
    "\n",
    "\n",
    "def update(val):\n",
    "    ax3.pcolormesh(Kx, Ky, shifted_fft[:, :, f_val_to_idx(val)], cmap='viridis')\n",
    "    fig3.canvas.draw_idle()\n",
    "\n",
    "\n",
    "freq_slider.on_changed(update)\n",
    "plt.show()"
   ],
   "metadata": {
    "collapsed": false,
    "pycharm": {
     "name": "#%%\n"
    }
   }
  },
  {
   "cell_type": "code",
   "execution_count": null,
   "outputs": [],
   "source": [
    "def kx_val_to_idx(v):\n",
    "    \"\"\"\n",
    "    slide value to ndarray index\n",
    "    :param v: slide value\n",
    "    :rtype: int\n",
    "    \"\"\"\n",
    "    return int((v + sfx / 2) * x_max) - 1\n",
    "\n",
    "\n",
    "plt.close()\n",
    "fig4 = plt.figure()\n",
    "ax4 = fig4.add_subplot()\n",
    "ax4.set_xlabel('Kx')\n",
    "ax4.set_ylabel('Freq')\n",
    "Kx, Freq = np.meshgrid(KX, FREQ, indexing='ij')\n",
    "image_fft_ky = ax4.pcolormesh(Kx, Freq, shifted_fft[:, kx_val_to_idx(0), :], cmap='viridis')\n",
    "plt.ylim(0, sft / 2)  # set valid frequency window\n",
    "# ax4.set_aspect(x / y)\n",
    "fig4.colorbar(image_fft_ky, label='Amplitude')\n",
    "fig4.subplots_adjust(bottom=0.25)\n",
    "ax_ky = plt.axes([0.20, 0.05, 0.65, 0.06])\n",
    "ky_slider = Slider(\n",
    "    ax=ax_ky,\n",
    "    label='ky',\n",
    "    valmin=-sfy / 2,\n",
    "    valmax=sfy / 2,\n",
    "    valinit=0,\n",
    "    valstep=sfy / sp,\n",
    ")\n",
    "\n",
    "\n",
    "def update_ky(val):\n",
    "    ax4.pcolormesh(Kx, Freq, shifted_fft[:, kx_val_to_idx(val), :], cmap='viridis')\n",
    "    fig4.canvas.draw_idle()\n",
    "\n",
    "\n",
    "ky_slider.on_changed(update_ky)\n",
    "plt.show()"
   ],
   "metadata": {
    "collapsed": false,
    "pycharm": {
     "name": "#%%\n"
    }
   }
  },
  {
   "cell_type": "code",
   "execution_count": null,
   "outputs": [],
   "source": [
    "def ky_val_to_idx(v):\n",
    "    \"\"\"\n",
    "    slide value to ndarray index\n",
    "    :param v: slide value\n",
    "    :rtype: int\n",
    "    \"\"\"\n",
    "    return int((v + sfy / 2) * y_max)\n",
    "\n",
    "\n",
    "plt.close()\n",
    "fig5 = plt.figure()\n",
    "ax5 = fig5.add_subplot()\n",
    "ax5.set_xlabel('Ky')\n",
    "ax5.set_ylabel('Freq')\n",
    "Ky, Freq = np.meshgrid(KY, FREQ, indexing='ij')\n",
    "image_fft_kx = ax5.pcolormesh(Ky, Freq, shifted_fft[ky_val_to_idx(0), :, :], cmap='viridis')\n",
    "plt.ylim(0, sft / 2)  # set valid frequency window\n",
    "# ax5.set_aspect(x / y)\n",
    "plt.colorbar(image_fft_kx, label='Amplitude')\n",
    "plt.subplots_adjust(bottom=0.25)\n",
    "ax_kx = plt.axes([0.20, 0.05, 0.65, 0.06])\n",
    "kx_slider = Slider(\n",
    "    ax=ax_kx,\n",
    "    label='kx',\n",
    "    valmin=-sfx / 2,\n",
    "    valmax=sfx / 2,\n",
    "    valinit=0,\n",
    "    valstep=sfx / sp,\n",
    ")\n",
    "\n",
    "\n",
    "def update_kx(val):\n",
    "    ax5.pcolormesh(Ky, Freq, shifted_fft[ky_val_to_idx(val), :, :], cmap='viridis')\n",
    "    fig5.canvas.draw_idle()\n",
    "\n",
    "\n",
    "kx_slider.on_changed(update_kx)\n",
    "plt.show()"
   ],
   "metadata": {
    "collapsed": false,
    "pycharm": {
     "name": "#%%\n"
    }
   }
  },
  {
   "cell_type": "code",
   "execution_count": null,
   "outputs": [],
   "source": [
    "mask = np.zeros((sp, sp, sp))\n",
    "cx, cy, cf = kx_val_to_idx(sfx / 2), ky_val_to_idx(sfy / 2), 0\n",
    "mask[:, :, :]"
   ],
   "metadata": {
    "collapsed": false,
    "pycharm": {
     "name": "#%%\n"
    }
   }
  },
  {
   "cell_type": "code",
   "execution_count": null,
   "outputs": [],
   "source": [
    "ifft_result = np.fft.ifftn(fft_result).real"
   ],
   "metadata": {
    "collapsed": false,
    "pycharm": {
     "name": "#%%\n"
    }
   }
  },
  {
   "cell_type": "code",
   "execution_count": null,
   "outputs": [],
   "source": [
    "plt.close()\n",
    "\n",
    "\n",
    "def change_plot_img(frame_number, z_array, plot):\n",
    "    plot[0].remove()\n",
    "    plot[0] = ax6.pcolormesh(x, y, z_array[:, :, frame_number], cmap='viridis')\n",
    "\n",
    "\n",
    "fig6 = plt.figure()\n",
    "ax6 = fig6.add_subplot()\n",
    "ax6.set_xlabel('x')\n",
    "ax6.set_ylabel('y')\n",
    "image = [ax6.pcolormesh(x, y, ifft_result[:, :, 128], cmap='viridis')]\n",
    "ax6.set_aspect(x_max / y_max)\n",
    "plt.colorbar(image[0], label='Amplitude')\n",
    "ani3 = animation.FuncAnimation(fig6, change_plot_img, len(T), fargs=(ifft_result, image), interval=1000 / fps)\n",
    "plt.show()"
   ],
   "metadata": {
    "collapsed": false,
    "pycharm": {
     "name": "#%%\n"
    }
   }
  }
 ],
 "metadata": {
  "kernelspec": {
   "display_name": "Python 3.10.4 ('waves')",
   "language": "python",
   "name": "python3"
  },
  "language_info": {
   "codemirror_mode": {
    "name": "ipython",
    "version": 3
   },
   "file_extension": ".py",
   "mimetype": "text/x-python",
   "name": "python",
   "nbconvert_exporter": "python",
   "pygments_lexer": "ipython3",
   "version": "3.10.4"
  },
  "vscode": {
   "interpreter": {
    "hash": "b5bb831e86fdd326010f7f514ba94ab7531f6b5e17e2da75ff830d5623528955"
   }
  }
 },
 "nbformat": 4,
 "nbformat_minor": 4
}